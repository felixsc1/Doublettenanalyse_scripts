{
 "cells": [
  {
   "cell_type": "markdown",
   "metadata": {},
   "source": [
    "## Imports"
   ]
  },
  {
   "cell_type": "code",
   "execution_count": 1,
   "metadata": {},
   "outputs": [],
   "source": [
    "import pandas as pd\n",
    "import numpy as np\n",
    "import warnings\n",
    "from helper_functions.file_io_functions import detect_raw_files, load_processed_data, save_results, load_data, create_excel_files_from_nested_dict\n",
    "from helper_functions.cleanup_functions import raw_cleanup\n",
    "from helper_functions.edges_clusters import find_name_adresse_doubletten\n",
    "from helper_functions.filter_muster_organisationen import general_exclusion_criteria, FDA_servicerole, batch_process_produkte, organisationsrollen_filter_and_format_batch, find_portal_vs_physisch_doublette, find_frequent_roles\n",
    "from helper_functions.analyses_formatting import final_touch, final_touch_batch, add_organisationsrollen_string_columns, organisationsrollen_add_inhaber_typ_and_produkt_typ\n",
    "from helper_functions.statistics import count_produktrollen_identische_sonstige\n",
    "import pickle\n",
    "\n",
    "# This extension will cause imported modules to be reloaded if there were changes made.\n",
    "%load_ext autoreload\n",
    "%autoreload 2\n",
    "\n",
    "# Disable some annoying warnings. \n",
    "pd.options.mode.chained_assignment = None\n",
    "warnings.simplefilter(action='ignore', category=FutureWarning)\n",
    "\n",
    "# Set the global number formatting\n",
    "np.set_printoptions(precision=2, suppress=True)"
   ]
  },
  {
   "cell_type": "markdown",
   "metadata": {},
   "source": [
    "## Loading Data & Basic Cleanup\n",
    "\n",
    "Specify data folder. Can be the data folder of GraphViewer App.\n",
    "\n",
    "This step must only be run once when processing a new dataset.\n",
    "\n",
    "Recommendation:\n",
    "When loading new data into the GraphViewerApp, run processing first there. \n",
    "Then run this script with \"skip_hyperlink_step=True\" below (a time consuming step that extracts links the formatted excel files)."
   ]
  },
  {
   "cell_type": "code",
   "execution_count": 2,
   "metadata": {},
   "outputs": [],
   "source": [
    "# To check if all required Expertensuche files exist.\n",
    "raw_data_directory = \"../GraphViewerApp/data/\"\n",
    "\n",
    "raw_files, error_message = detect_raw_files(directory=raw_data_directory)\n",
    "if error_message:\n",
    "    print(error_message)"
   ]
  },
  {
   "cell_type": "code",
   "execution_count": 3,
   "metadata": {},
   "outputs": [
    {
     "name": "stdout",
     "output_type": "stream",
     "text": [
      "Reading excel files and extracting hyperlinks (takes several minutes)...\n",
      "Basic cleanup Organisationen & Personen...\n",
      "Aggregating additional Expertensuchen...\n",
      "Storing dataframes as pickle...\n"
     ]
    }
   ],
   "source": [
    "df_organisationen, df_personen = raw_cleanup(raw_files, raw_data_directory, skip_hyperlink_step=True)  # Takes >5 min"
   ]
  },
  {
   "cell_type": "code",
   "execution_count": 4,
   "metadata": {},
   "outputs": [],
   "source": [
    "# df_organisationen.to_excel('output/Organisationen_processed.xlsx', engine='openpyxl', index=False)"
   ]
  },
  {
   "cell_type": "markdown",
   "metadata": {},
   "source": [
    "### Optionally, skip above processing and load cleaned data"
   ]
  },
  {
   "cell_type": "code",
   "execution_count": 5,
   "metadata": {},
   "outputs": [],
   "source": [
    "data_dfs = load_processed_data()\n",
    "\n",
    "df_organisationen = data_dfs[\"organisationen\"]\n",
    "df_personen = data_dfs[\"personen\"]\n",
    "df_organisationsrollen = data_dfs[\"organisationsrollen\"]"
   ]
  },
  {
   "cell_type": "code",
   "execution_count": 6,
   "metadata": {},
   "outputs": [
    {
     "name": "stdout",
     "output_type": "stream",
     "text": [
      "Number of rows with a mixture of 'Person' and 'Organisation': 249\n"
     ]
    }
   ],
   "source": [
    "# For newer analysis, enhance Organisationsrollen file with Produkttyp / Inhabertyp\n",
    "df_organisationsrollen = organisationsrollen_add_inhaber_typ_and_produkt_typ(df_organisationsrollen, df_personen, df_organisationen)\n",
    "df_organisationsrollen.to_excel('data/calculated/Organisationsrollen_processed.xlsx', engine='openpyxl', index=False)"
   ]
  },
  {
   "cell_type": "markdown",
   "metadata": {},
   "source": [
    "## Performance Analysis\n",
    "Simply checks which Organisationen OR Personen have >1000 roles as Inhaber / Rechnungsempfänger / Korrespondenzempfänger"
   ]
  },
  {
   "cell_type": "code",
   "execution_count": 7,
   "metadata": {},
   "outputs": [],
   "source": [
    "inhaber_df, rechnungsempfaenger_df, korrespondenzempfaenger_df = find_frequent_roles(df_organisationsrollen)\n",
    "\n",
    "with pd.ExcelWriter('output/Organisationen_Frequent_Roles.xlsx', engine='openpyxl') as writer:\n",
    "    inhaber_df.to_excel(writer, sheet_name='Inhaber', index=False)\n",
    "    rechnungsempfaenger_df.to_excel(writer, sheet_name='Rechnungsempfaenger', index=False)\n",
    "    korrespondenzempfaenger_df.to_excel(writer, sheet_name='Korrespondenzempfaenger', index=False)"
   ]
  },
  {
   "cell_type": "markdown",
   "metadata": {},
   "source": [
    "## Find Doubletten"
   ]
  },
  {
   "cell_type": "code",
   "execution_count": 8,
   "metadata": {},
   "outputs": [],
   "source": [
    "# Starting point for most analyses: Have groups of organisations with exact match in Name and Adresse.\n",
    "\n",
    "organisationen_doubletten = find_name_adresse_doubletten(df_organisationen)\n",
    "doubletten_list_organisationen = df_organisationen[\"ReferenceID\"].unique().tolist()"
   ]
  },
  {
   "cell_type": "code",
   "execution_count": 9,
   "metadata": {},
   "outputs": [],
   "source": [
    "# ----- Some general exclusion criteria: ------\n",
    "\n",
    "no_Produkte = False\n",
    "no_Geschaeftspartner = False # So fare we only analyzed without Geschäftspartner\n",
    "no_Servicerole = False # So far we only analyzed without Servicerole\n",
    "\n",
    "# For analyzing data with BAZL, BAFU etc.  (must set no_Geschaefstpartner to False above)\n",
    "only_with_Geschaeftspartner = True\n",
    "\n",
    "organisationen_doubletten_filtered = general_exclusion_criteria(organisationen_doubletten, no_Produkte=no_Produkte, no_Geschaeftspartner=no_Geschaeftspartner, no_Servicerole=no_Servicerole, only_with_Geschaeftspartner=only_with_Geschaeftspartner)\n"
   ]
  },
  {
   "cell_type": "markdown",
   "metadata": {},
   "source": [
    "### Organisationsrollenanalyse\n",
    "\n",
    "Create analysis for single product or list of products, e.g \"Einzelnummer\". Find doubletten that have roles related to that product.\n",
    "\n",
    "Takes >20 min for all products.\n",
    "\n",
    "Choices are:\n",
    "`\n",
    "'116xyz-Kurznummer',\n",
    "'18xy-Kurznummer',\n",
    "'1xy-Kurznummer',\n",
    "'Carrier Selection Code (CSC)', \n",
    "'E.164-Nummernblock', \n",
    "'E.164-Zugangskennzahl', \n",
    "'Einzelnummer', \n",
    "'International Signalling Point Code (ISPC)', \n",
    "'Issuer Identifier Number (IIN)', \n",
    "'Mobile Network Code (MNC)', \n",
    "'National Signalling Point Code (NSPC)', \n",
    "'Objektbezeichner (OID)', \n",
    "'Weiteres Adressierungselement', \n",
    "'Packet Radio Rufzeichen', \n",
    "'Rufzeichen Amateurfunk', \n",
    "'Rufzeichen Hochseeyacht', \n",
    "'Rufzeichen Luftfahrzeug', \n",
    "'Rufzeichen Rheinschiff', \n",
    "'Rufzeichen SOLAS-Schiff', \n",
    "'Handsprechfunkgeräte mit DSC (Maritime Kennung)', \n",
    "'FDA'\n",
    "`\n"
   ]
  },
  {
   "cell_type": "code",
   "execution_count": 10,
   "metadata": {},
   "outputs": [
    {
     "name": "stdout",
     "output_type": "stream",
     "text": [
      "✅ Done with 116xyz-Kurznummer\n",
      "❌ No Doubletten with 3 roles found!\n",
      "❌ No Doubletten with 2 roles found!\n",
      "✅ Done with 18xy-Kurznummer\n",
      "❌ No Doubletten with 3 roles found!\n",
      "❌ No Doubletten with 2 roles found!\n",
      "✅ Done with 1xy-Kurznummer\n",
      "❌ No Doubletten with 2 roles found!\n",
      "✅ Done with Carrier Selection Code (CSC)\n",
      "❌ No Doubletten with 3 roles found!\n",
      "❌ No Doubletten with 2 roles found!\n",
      "✅ Done with E.164-Nummernblock\n",
      "❌ No Doubletten with 3 roles found!\n",
      "❌ No Doubletten with 2 roles found!\n",
      "✅ Done with E.164-Zugangskennzahl\n",
      "❌ No Doubletten with 3 roles found!\n",
      "❌ No Doubletten with 2 roles found!\n",
      "✅ Done with Einzelnummer\n",
      "✅ Done with International Signalling Point Code (ISPC)\n",
      "❌ No Doubletten with 3 roles found!\n",
      "❌ No Doubletten with 2 roles found!\n",
      "✅ Done with Issuer Identifier Number (IIN)\n",
      "❌ No Doubletten with 3 roles found!\n",
      "❌ No Doubletten with 2 roles found!\n",
      "✅ Done with Mobile Network Code (MNC)\n",
      "❌ No Doubletten with 3 roles found!\n",
      "❌ No Doubletten with 2 roles found!\n",
      "✅ Done with National Signalling Point Code (NSPC)\n",
      "❌ No Doubletten with 3 roles found!\n",
      "❌ No Doubletten with 2 roles found!\n",
      "✅ Done with Objektbezeichner (OID)\n",
      "❌ No Doubletten with 3 roles found!\n",
      "❌ No Doubletten with 2 roles found!\n",
      "✅ Done with Weiteres Adressierungselement\n",
      "❌ No Doubletten with 3 roles found!\n",
      "❌ No Doubletten with 2 roles found!\n",
      "✅ Done with Packet Radio Rufzeichen\n",
      "❌ No Doubletten with 3 roles found!\n",
      "❌ No Doubletten with 2 roles found!\n",
      "✅ Done with Rufzeichen Amateurfunk\n",
      "❌ No Doubletten with 3 roles found!\n",
      "❌ No Doubletten with 2 roles found!\n",
      "✅ Done with Rufzeichen Hochseeyacht\n",
      "❌ No Doubletten with 3 roles found!\n",
      "❌ No Doubletten with 2 roles found!\n",
      "✅ Done with Rufzeichen Luftfahrzeug\n",
      "❌ No Doubletten with 2 roles found!\n",
      "✅ Done with Rufzeichen Rheinschiff\n",
      "❌ No Doubletten with 3 roles found!\n",
      "❌ No Doubletten with 2 roles found!\n",
      "✅ Done with Rufzeichen SOLAS-Schiff\n",
      "❌ No Doubletten with 3 roles found!\n",
      "❌ No Doubletten with 2 roles found!\n",
      "✅ Done with Handsprechfunkgeräte mit DSC (Maritime Kennung)\n",
      "❌ No Doubletten with 3 roles found!\n",
      "❌ No Doubletten with 2 roles found!\n",
      "✅ Done with FDA\n",
      "❌ No Doubletten with 3 roles found!\n",
      "❌ No Doubletten with 2 roles found!\n"
     ]
    }
   ],
   "source": [
    "produktnamen = ['116xyz-Kurznummer',\n",
    "'18xy-Kurznummer',\n",
    "'1xy-Kurznummer',\n",
    "'Carrier Selection Code (CSC)', \n",
    "'E.164-Nummernblock', \n",
    "'E.164-Zugangskennzahl', \n",
    "'Einzelnummer', \n",
    "'International Signalling Point Code (ISPC)', \n",
    "'Issuer Identifier Number (IIN)', \n",
    "'Mobile Network Code (MNC)', \n",
    "'National Signalling Point Code (NSPC)', \n",
    "'Objektbezeichner (OID)', \n",
    "'Weiteres Adressierungselement', \n",
    "'Packet Radio Rufzeichen', \n",
    "'Rufzeichen Amateurfunk', \n",
    "'Rufzeichen Hochseeyacht', \n",
    "'Rufzeichen Luftfahrzeug', \n",
    "'Rufzeichen Rheinschiff', \n",
    "'Rufzeichen SOLAS-Schiff', \n",
    "'Handsprechfunkgeräte mit DSC (Maritime Kennung)', \n",
    "'FDA']\n",
    "\n",
    "# produktnamen = [\"E.164-Nummernblock\"]\n",
    "\n",
    "organisationsrollen_results_3_roles, organisationsrollen_results_2_roles = batch_process_produkte(organisationen_doubletten_filtered, df_organisationsrollen, produktnamen) "
   ]
  },
  {
   "cell_type": "code",
   "execution_count": 11,
   "metadata": {},
   "outputs": [],
   "source": [
    "# To skip above steps, store and re-load results like this:\n",
    "save_results(organisationsrollen_results_3_roles, \"organisationsrollen_3_roles.pickle\")\n",
    "save_results(organisationsrollen_results_2_roles, \"organisationsrollen_2_roles.pickle\")\n",
    "organisationsrollen_results_2_roles = load_data(\"data/calculated/organisationsrollen_2_roles.pickle\") \n",
    "organisationsrollen_results_3_roles = load_data(\"data/calculated/organisationsrollen_3_roles.pickle\") "
   ]
  },
  {
   "cell_type": "markdown",
   "metadata": {},
   "source": [
    "Erklärung zu den Parametern:  \n",
    "\n",
    "*roles_per_product*: Produkte haben 3 Rollen (Inhaber, Rechempf., Korrempf.). Für gewisse Analysen wollen wir, dass zwei der drei Rollen in einer Gruppe Doubletten vorhanden sind, für andere wollen wir alle drei.\n",
    "\n",
    "*rows_per_product*: Für den Fall, dass alle drei Rollen in den Doubletten vorkommen, können diese auf zwei Doubletten (rows) aufgeteilt sein, oder auf drei (Fall \"komplette Doublette\")."
   ]
  },
  {
   "cell_type": "code",
   "execution_count": 12,
   "metadata": {},
   "outputs": [],
   "source": [
    "# takes ~5min\n",
    "\n",
    "organisationsrollen_results_formatted_2, s_df1 = organisationsrollen_filter_and_format_batch(organisationsrollen_results_2_roles, roles_per_product=2)\n",
    "organisationsrollen_results_formatted_komplette_doublette, s_df2 = organisationsrollen_filter_and_format_batch(organisationsrollen_results_3_roles, rows_per_product=3, roles_per_product=3)\n",
    "organisationsrollen_results_formatted_3, s_df3 = organisationsrollen_filter_and_format_batch(organisationsrollen_results_3_roles, rows_per_product=2, roles_per_product=3)"
   ]
  },
  {
   "cell_type": "code",
   "execution_count": 13,
   "metadata": {},
   "outputs": [],
   "source": [
    "# combine statistics dfs\n",
    "combined_df = pd.concat([s_df1, s_df2, s_df3])\n",
    "organisationsrollen_statistik_df = combined_df.groupby('produkte', as_index=False)['Doubletten'].sum()\n"
   ]
  },
  {
   "cell_type": "code",
   "execution_count": 14,
   "metadata": {},
   "outputs": [],
   "source": [
    "cols_to_keep=[\"ReferenceID\", \"Name\", \"Objekt_link\", \"address_full\", \"VerknuepftesObjekt_list\", \"VerknuepftesObjektID_list\", \"Geschaeftspartner\", \"cluster_id\", \"score\", \"master\", \"masterID\", \"Inhaber_Objekt\", \"Rechempf_Objekt\", \"Korrempf_Objekt\", \"Inhaber_ProduktID\", \"Rechempf_ProduktID\", \"Korrempf_ProduktID\"]\n",
    "organisationsrollen_results_formatted_2 = final_touch_batch(organisationsrollen_results_formatted_2, cols_to_keep, two_roles=True)\n",
    "organisationsrollen_results_formatted_3 = final_touch_batch(organisationsrollen_results_formatted_3, cols_to_keep, alphanumeric=True)\n",
    "organisationsrollen_results_formatted_komplette_doublette = final_touch_batch(organisationsrollen_results_formatted_komplette_doublette, cols_to_keep, alphanumeric=True)\n"
   ]
  },
  {
   "cell_type": "code",
   "execution_count": 15,
   "metadata": {},
   "outputs": [
    {
     "name": "stdout",
     "output_type": "stream",
     "text": [
      "No sheets created for file 'Rufzeichen Luftfahrzeug' as all dataframes are empty.\n",
      "No sheets created for file '1xy-Kurznummer' as all dataframes are empty.\n",
      "No sheets created for file 'Rufzeichen Luftfahrzeug' as all dataframes are empty.\n"
     ]
    }
   ],
   "source": [
    "# Create excel file for each Produkt-type in /output folder.  (Error message \"ValueError: seek of closed file\" is expected and can be ignored)\n",
    "\n",
    "create_excel_files_from_nested_dict(organisationsrollen_results_formatted_2, output_dir='output/2_organisationsrollen') \n",
    "create_excel_files_from_nested_dict(organisationsrollen_results_formatted_3, output_dir='output/3_organisationsrollen')\n",
    "create_excel_files_from_nested_dict(organisationsrollen_results_formatted_komplette_doublette, output_dir='output/organisationsrollen_komplette_doublette')"
   ]
  },
  {
   "cell_type": "markdown",
   "metadata": {},
   "source": [
    "### Statistik\n",
    "Mengengerüst an Doubletten mit sektionsübergreifenden Produkttypen.\n",
    "Doubletten, die eine Rolle haben zum selben Produkt mit Typ Funk."
   ]
  },
  {
   "cell_type": "code",
   "execution_count": 16,
   "metadata": {},
   "outputs": [],
   "source": [
    "statistik_df = count_produktrollen_identische_sonstige(df_organisationsrollen, organisationsrollen_statistik_df)\n",
    "statistik_df.to_excel('output/Statistik_Produkte_Rollen.xlsx', engine='openpyxl', index=False)"
   ]
  },
  {
   "cell_type": "markdown",
   "metadata": {},
   "source": [
    "### FDA Servicerollenanalyse"
   ]
  },
  {
   "cell_type": "code",
   "execution_count": 19,
   "metadata": {},
   "outputs": [
    {
     "data": {
      "text/plain": [
       "0"
      ]
     },
     "execution_count": 19,
     "metadata": {},
     "output_type": "execute_result"
    }
   ],
   "source": [
    "len(df_FDA_servicerole)"
   ]
  },
  {
   "cell_type": "code",
   "execution_count": 17,
   "metadata": {},
   "outputs": [
    {
     "name": "stdout",
     "output_type": "stream",
     "text": [
      "Warning: No groups meet the criteria.\n"
     ]
    },
    {
     "ename": "ValueError",
     "evalue": "DataFrame does not contain 'cluster_id' column.",
     "output_type": "error",
     "traceback": [
      "\u001b[1;31m---------------------------------------------------------------------------\u001b[0m",
      "\u001b[1;31mValueError\u001b[0m                                Traceback (most recent call last)",
      "Cell \u001b[1;32mIn[17], line 10\u001b[0m\n\u001b[0;32m      6\u001b[0m     cols_to_keep\u001b[38;5;241m=\u001b[39m[\u001b[38;5;124m\"\u001b[39m\u001b[38;5;124mReferenceID\u001b[39m\u001b[38;5;124m\"\u001b[39m, \u001b[38;5;124m\"\u001b[39m\u001b[38;5;124mName\u001b[39m\u001b[38;5;124m\"\u001b[39m, \u001b[38;5;124m\"\u001b[39m\u001b[38;5;124mObjekt_link\u001b[39m\u001b[38;5;124m\"\u001b[39m, \u001b[38;5;124m\"\u001b[39m\u001b[38;5;124maddress_full\u001b[39m\u001b[38;5;124m\"\u001b[39m, \u001b[38;5;124m\"\u001b[39m\u001b[38;5;124mVerknuepftesObjekt_list\u001b[39m\u001b[38;5;124m\"\u001b[39m, \u001b[38;5;124m\"\u001b[39m\u001b[38;5;124mVerknuepftesObjektID_list\u001b[39m\u001b[38;5;124m\"\u001b[39m, \u001b[38;5;124m\"\u001b[39m\u001b[38;5;124mServicerole_string\u001b[39m\u001b[38;5;124m\"\u001b[39m, \u001b[38;5;124m\"\u001b[39m\u001b[38;5;124mcluster_id\u001b[39m\u001b[38;5;124m\"\u001b[39m, \u001b[38;5;124m\"\u001b[39m\u001b[38;5;124mscore\u001b[39m\u001b[38;5;124m\"\u001b[39m, \u001b[38;5;124m\"\u001b[39m\u001b[38;5;124mmaster\u001b[39m\u001b[38;5;124m\"\u001b[39m, \u001b[38;5;124m\"\u001b[39m\u001b[38;5;124mmasterID\u001b[39m\u001b[38;5;124m\"\u001b[39m]\n\u001b[0;32m      8\u001b[0m df_FDA_servicerole \u001b[38;5;241m=\u001b[39m FDA_servicerole(organisationen_doubletten_filtered)\n\u001b[1;32m---> 10\u001b[0m df_FDA_servicerole \u001b[38;5;241m=\u001b[39m \u001b[43mfinal_touch\u001b[49m\u001b[43m(\u001b[49m\u001b[43mdf_FDA_servicerole\u001b[49m\u001b[43m,\u001b[49m\u001b[43m \u001b[49m\u001b[43mcols_to_keep\u001b[49m\u001b[43m)\u001b[49m\n\u001b[0;32m     12\u001b[0m df_FDA_servicerole\u001b[38;5;241m.\u001b[39mto_excel(\u001b[38;5;124m'\u001b[39m\u001b[38;5;124moutput/Organisationen_FDA_Servicerole.xlsx\u001b[39m\u001b[38;5;124m'\u001b[39m, engine\u001b[38;5;241m=\u001b[39m\u001b[38;5;124m'\u001b[39m\u001b[38;5;124mopenpyxl\u001b[39m\u001b[38;5;124m'\u001b[39m, index\u001b[38;5;241m=\u001b[39m\u001b[38;5;28;01mFalse\u001b[39;00m)\n",
      "File \u001b[1;32mc:\\GitRepos\\Doublettenanalyse_scripts\\helper_functions\\analyses_formatting.py:112\u001b[0m, in \u001b[0;36mfinal_touch\u001b[1;34m(df, cols_to_keep, two_roles, alphanumeric)\u001b[0m\n\u001b[0;32m    107\u001b[0m \u001b[38;5;250m\u001b[39m\u001b[38;5;124;03m\"\"\"\u001b[39;00m\n\u001b[0;32m    108\u001b[0m \u001b[38;5;124;03mFor a single dataframe. \u001b[39;00m\n\u001b[0;32m    109\u001b[0m \u001b[38;5;124;03mnewer analyses have alphanumeric cluster_ids (1_a, 1_b, 2_a, etc.), so we need to sort them differently.\u001b[39;00m\n\u001b[0;32m    110\u001b[0m \u001b[38;5;124;03m\"\"\"\u001b[39;00m\n\u001b[0;32m    111\u001b[0m \u001b[38;5;28;01mif\u001b[39;00m \u001b[38;5;124m\"\u001b[39m\u001b[38;5;124mcluster_id\u001b[39m\u001b[38;5;124m\"\u001b[39m \u001b[38;5;129;01mnot\u001b[39;00m \u001b[38;5;129;01min\u001b[39;00m df\u001b[38;5;241m.\u001b[39mcolumns:\n\u001b[1;32m--> 112\u001b[0m     \u001b[38;5;28;01mraise\u001b[39;00m \u001b[38;5;167;01mValueError\u001b[39;00m(\u001b[38;5;124m\"\u001b[39m\u001b[38;5;124mDataFrame does not contain \u001b[39m\u001b[38;5;124m'\u001b[39m\u001b[38;5;124mcluster_id\u001b[39m\u001b[38;5;124m'\u001b[39m\u001b[38;5;124m column.\u001b[39m\u001b[38;5;124m\"\u001b[39m)\n\u001b[0;32m    114\u001b[0m df \u001b[38;5;241m=\u001b[39m df\u001b[38;5;241m.\u001b[39mapply(filter_verknuepfungen, axis\u001b[38;5;241m=\u001b[39m\u001b[38;5;241m1\u001b[39m)\n\u001b[0;32m    115\u001b[0m df \u001b[38;5;241m=\u001b[39m set_master_flag(df)\n",
      "\u001b[1;31mValueError\u001b[0m: DataFrame does not contain 'cluster_id' column."
     ]
    }
   ],
   "source": [
    "if only_with_Geschaeftspartner:\n",
    "    organisationen_doubletten_filtered = general_exclusion_criteria(organisationen_doubletten, no_Produkte=True, no_Geschaeftspartner=False, no_Servicerole=False, only_with_Geschaeftspartner=True)\n",
    "    cols_to_keep=[\"ReferenceID\", \"Name\", \"Objekt_link\", \"address_full\", \"VerknuepftesObjekt_list\", \"VerknuepftesObjektID_list\", \"Geschaeftspartner\", \"Servicerole_string\", \"cluster_id\", \"score\", \"master\", \"masterID\"]\n",
    "else:\n",
    "    organisationen_doubletten_filtered = general_exclusion_criteria(organisationen_doubletten, no_Produkte=True, no_Geschaeftspartner=True, no_Servicerole=False)\n",
    "    cols_to_keep=[\"ReferenceID\", \"Name\", \"Objekt_link\", \"address_full\", \"VerknuepftesObjekt_list\", \"VerknuepftesObjektID_list\", \"Servicerole_string\", \"cluster_id\", \"score\", \"master\", \"masterID\"]\n",
    "\n",
    "df_FDA_servicerole = FDA_servicerole(organisationen_doubletten_filtered)\n",
    "\n",
    "if len(df_FDA_servicerole) > 0:\n",
    "    df_FDA_servicerole = final_touch(df_FDA_servicerole, cols_to_keep)\n",
    "    df_FDA_servicerole.to_excel('output/Organisationen_FDA_Servicerole.xlsx', engine='openpyxl', index=False)"
   ]
  },
  {
   "cell_type": "markdown",
   "metadata": {},
   "source": [
    "### Doubletten Ohne Produkte"
   ]
  },
  {
   "cell_type": "code",
   "execution_count": 20,
   "metadata": {},
   "outputs": [],
   "source": [
    "if only_with_Geschaeftspartner:\n",
    "    organisationen_doubletten_filtered = general_exclusion_criteria(organisationen_doubletten, no_Produkte=True, no_Geschaeftspartner=False, no_Servicerole=True, only_with_Geschaeftspartner=True)\n",
    "    cols_to_keep=[\"ReferenceID\", \"Name_Zeile2\", \"Objekt_link\", \"address_full\", \"VerknuepftesObjekt_list\", \"VerknuepftesObjektID_list\", \"Geschaeftspartner\", \"cluster_id\", \"score\", \"master\", \"masterID\"]\n",
    "else:\n",
    "    organisationen_doubletten_filtered = general_exclusion_criteria(organisationen_doubletten, no_Produkte=True, no_Geschaeftspartner=True, no_Servicerole=True)\n",
    "    cols_to_keep=[\"ReferenceID\", \"Name_Zeile2\", \"Objekt_link\", \"address_full\", \"VerknuepftesObjekt_list\", \"VerknuepftesObjektID_list\", \"cluster_id\", \"score\", \"master\", \"masterID\"]\n",
    "\n",
    "df_doubletten_ohne_produkte = final_touch(organisationen_doubletten_filtered, cols_to_keep)\n",
    "\n",
    "df_doubletten_ohne_produkte.to_excel('output/Organisationen_ohne_produkte.xlsx', engine='openpyxl', index=False)"
   ]
  },
  {
   "cell_type": "markdown",
   "metadata": {},
   "source": [
    "### Physisch vs. Portal\n",
    "\n",
    "Any Doubletten that have same Name + Address + Email (though one may have empty email), irrespective of Organisationsrollen (but those are in a column as list)\n",
    "\n",
    "Currently Geschaeftspartner / Servicerolle are allowed, and shown in separate columns."
   ]
  },
  {
   "cell_type": "code",
   "execution_count": 21,
   "metadata": {},
   "outputs": [],
   "source": [
    "df_portal_physisch_only_nonempty_email = find_portal_vs_physisch_doublette(df_organisationen, organisationen=True, strict_email=True, only_Geschaeftspartner=only_with_Geschaeftspartner)\n",
    "df_portal_physisch_empty_email = find_portal_vs_physisch_doublette(df_organisationen, organisationen=True, strict_email=False, only_Geschaeftspartner=only_with_Geschaeftspartner)\n",
    "\n",
    "df_portal_physisch_only_nonempty_email = add_organisationsrollen_string_columns(df_portal_physisch_only_nonempty_email, df_organisationsrollen)\n",
    "df_portal_physisch_empty_email = add_organisationsrollen_string_columns(df_portal_physisch_empty_email, df_organisationsrollen)\n",
    "\n",
    "cols_to_keep=[\"ReferenceID\", \"Name\", \"Objekt_link\", \"address_full\", \"VerknuepftesObjekt\", \"VerknuepftesObjektID\", \"EMailAdresse\", \"Versandart\", \"Geschaeftspartner\", \"Servicerole_string\", \"Organisationsrollen\", \"Organisationrollen_ProduktID\", \"cluster_id\", \"score\", \"master\", \"masterID\"]\n",
    "df_portal_physisch_only_nonempty_email = final_touch(df_portal_physisch_only_nonempty_email, cols_to_keep)\n",
    "df_portal_physisch_empty_email = final_touch(df_portal_physisch_empty_email, cols_to_keep)\n",
    "\n",
    "with pd.ExcelWriter('output/Organisationen_Portal_Vs_Physisch.xlsx', engine='openpyxl') as writer:\n",
    "    df_portal_physisch_only_nonempty_email.to_excel(writer, sheet_name='nonempty_email_only', index=False)\n",
    "    df_portal_physisch_empty_email.to_excel(writer, sheet_name='empty_email_allowed', index=False)\n",
    "    "
   ]
  }
 ],
 "metadata": {
  "kernelspec": {
   "display_name": "venv",
   "language": "python",
   "name": "python3"
  },
  "language_info": {
   "codemirror_mode": {
    "name": "ipython",
    "version": 3
   },
   "file_extension": ".py",
   "mimetype": "text/x-python",
   "name": "python",
   "nbconvert_exporter": "python",
   "pygments_lexer": "ipython3",
   "version": "3.11.7"
  }
 },
 "nbformat": 4,
 "nbformat_minor": 2
}
